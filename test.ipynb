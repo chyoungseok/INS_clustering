{
 "cells": [
  {
   "cell_type": "code",
   "execution_count": null,
   "metadata": {},
   "outputs": [],
   "source": [
    "a = {'a':1, 'b':2}\n",
    "\n",
    "def show_param(param):\n",
    "    print(param['a'])"
   ]
  }
 ],
 "metadata": {
  "kernelspec": {
   "display_name": "tf270",
   "language": "python",
   "name": "python3"
  },
  "language_info": {
   "name": "python",
   "version": "3.7.13"
  },
  "orig_nbformat": 4,
  "vscode": {
   "interpreter": {
    "hash": "1c7e5b2295d1fc1bfc2c2008a99316f2a7d705375d06e7de5f8e6c1f2cad69ee"
   }
  }
 },
 "nbformat": 4,
 "nbformat_minor": 2
}
