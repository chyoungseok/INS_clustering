{
 "cells": [
  {
   "cell_type": "code",
   "execution_count": 1,
   "metadata": {},
   "outputs": [
    {
     "name": "stdout",
     "output_type": "stream",
     "text": [
      "Model: \"model_2\"\n",
      "_________________________________________________________________\n",
      " Layer (type)                Output Shape              Param #   \n",
      "=================================================================\n",
      " input_1 (InputLayer)        [(None, 2000, 16, 1)]     0         \n",
      "                                                                 \n",
      " conv2d (Conv2D)             (None, 996, 14, 4)        124       \n",
      "                                                                 \n",
      " batch_normalization (BatchN  (None, 996, 14, 4)       16        \n",
      " ormalization)                                                   \n",
      "                                                                 \n",
      " re_lu (ReLU)                (None, 996, 14, 4)        0         \n",
      "                                                                 \n",
      " max_pooling2d (MaxPooling2D  (None, 496, 12, 4)       0         \n",
      " )                                                               \n",
      "                                                                 \n",
      " conv2d_1 (Conv2D)           (None, 244, 10, 8)        968       \n",
      "                                                                 \n",
      " batch_normalization_1 (Batc  (None, 244, 10, 8)       32        \n",
      " hNormalization)                                                 \n",
      "                                                                 \n",
      " re_lu_1 (ReLU)              (None, 244, 10, 8)        0         \n",
      "                                                                 \n",
      " max_pooling2d_1 (MaxPooling  (None, 120, 8, 8)        0         \n",
      " 2D)                                                             \n",
      "                                                                 \n",
      " dense (Dense)               (None, 120, 8, 10)        90        \n",
      "                                                                 \n",
      " embedding (GlobalAveragePoo  (None, 10)               0         \n",
      " ling2D)                                                         \n",
      "                                                                 \n",
      " dense_1 (Dense)             (None, 9600)              105600    \n",
      "                                                                 \n",
      " reshape (Reshape)           (None, 120, 8, 10)        0         \n",
      "                                                                 \n",
      " batch_normalization_2 (Batc  (None, 120, 8, 10)       40        \n",
      " hNormalization)                                                 \n",
      "                                                                 \n",
      " re_lu_2 (ReLU)              (None, 120, 8, 10)        0         \n",
      "                                                                 \n",
      " dense_2 (Dense)             (None, 120, 8, 8)         88        \n",
      "                                                                 \n",
      " reshape_1 (Reshape)         (None, 120, 8, 8)         0         \n",
      "                                                                 \n",
      " batch_normalization_3 (Batc  (None, 120, 8, 8)        32        \n",
      " hNormalization)                                                 \n",
      "                                                                 \n",
      " re_lu_3 (ReLU)              (None, 120, 8, 8)         0         \n",
      "                                                                 \n",
      "=================================================================\n",
      "Total params: 106,990\n",
      "Trainable params: 106,930\n",
      "Non-trainable params: 60\n",
      "_________________________________________________________________\n"
     ]
    }
   ],
   "source": [
    "from tensorflow.keras.layers import Dense, Flatten, Input\n",
    "from tensorflow.keras.models import Model\n",
    "from modules import AEC_builder\n",
    "\n",
    "_encoder = AEC_builder.Encoder(input_shape=(2000, 16, 1), nb_layer=2)\n",
    "_encoder.build()\n",
    "\n",
    "if not(_encoder.error_shape):\n",
    "    model = _encoder.model\n",
    "    # model.summary()\n",
    "\n",
    "    _bottle_neck = AEC_builder.BottleNeck(_encoder=_encoder.model, use_DENSE_OR_GAP='GAP')\n",
    "    _bottle_neck.build()\n",
    "    model2 = _bottle_neck.model\n",
    "    # model2.summary()\n",
    "    \n",
    "    model3 = _bottle_neck.decoder\n",
    "    model3.summary()\n",
    "\n",
    "    \n"
   ]
  },
  {
   "cell_type": "code",
   "execution_count": null,
   "metadata": {},
   "outputs": [],
   "source": [
    "from tensorflow.keras.layers import Reshape\n",
    "decoder = model2.output\n",
    "decoder = Dense(units=120*8*8)(decoder)\n",
    "decoder = Reshape((120, 8, 8))(decoder)\n",
    "model_decoder = Model(inputs=model2.input, outputs=decoder)\n",
    "model_decoder.summary()"
   ]
  },
  {
   "cell_type": "code",
   "execution_count": null,
   "metadata": {},
   "outputs": [],
   "source": []
  }
 ],
 "metadata": {
  "kernelspec": {
   "display_name": "tf270",
   "language": "python",
   "name": "python3"
  },
  "language_info": {
   "codemirror_mode": {
    "name": "ipython",
    "version": 3
   },
   "file_extension": ".py",
   "mimetype": "text/x-python",
   "name": "python",
   "nbconvert_exporter": "python",
   "pygments_lexer": "ipython3",
   "version": "3.7.13"
  },
  "orig_nbformat": 4,
  "vscode": {
   "interpreter": {
    "hash": "1c7e5b2295d1fc1bfc2c2008a99316f2a7d705375d06e7de5f8e6c1f2cad69ee"
   }
  }
 },
 "nbformat": 4,
 "nbformat_minor": 2
}
