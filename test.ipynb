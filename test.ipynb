{
 "cells": [
  {
   "cell_type": "code",
   "execution_count": null,
   "metadata": {},
   "outputs": [],
   "source": [
    "from tensorflow.keras.layers import Dense, Flatten, Input\n",
    "from tensorflow.keras.models import Model\n",
    "from modules import AEC_builder\n",
    "\n",
    "_encoder = AEC_builder.Encoder(input_shape=(2000, 16, 1), nb_layer=2)\n",
    "_encoder.build()\n",
    "\n",
    "if not(_encoder.error_shape):\n",
    "    model = _encoder.model\n",
    "    # model.summary()\n",
    "\n",
    "    _bottle_neck = AEC_builder.BottleNeck(_encoder=_encoder.model)\n",
    "    _bottle_neck.build()\n",
    "    model2 = _bottle_neck.model\n",
    "    model2.summary()\n",
    "    # shape = model.output.shape\n",
    "    # a = Flatten()(model.output)\n",
    "    # a = Dense(units=shape[1]*shape[2]*shape[3])(a)\n",
    "    # model2 = Model(model.input, a)\n",
    "    # model2.summary()\n"
   ]
  },
  {
   "cell_type": "code",
   "execution_count": null,
   "metadata": {},
   "outputs": [],
   "source": [
    "a = [1,3]\n",
    "for i, ai in enumerate(a):\n",
    "    print(i, ai)"
   ]
  },
  {
   "cell_type": "code",
   "execution_count": null,
   "metadata": {},
   "outputs": [],
   "source": [
    "import numpy as np\n",
    "int(2.7)"
   ]
  },
  {
   "cell_type": "code",
   "execution_count": null,
   "metadata": {},
   "outputs": [],
   "source": [
    "from modules.AEC_builder import check_shape\n",
    "from tensorflow.keras.layers import Dense, Flatten, Input\n",
    "\n",
    "input = Input(shape=(2000, 16, 1))\n",
    "\n",
    "print(check_shape(layer=input, nb_layer=4, conv_kernel=(10,2), conv_stride=(2,1), pool_kernel=(5,2), pool_stride=(2,2)))"
   ]
  },
  {
   "cell_type": "code",
   "execution_count": null,
   "metadata": {},
   "outputs": [],
   "source": [
    "def show(**params):\n",
    "    print(params.setdefault('a', (1,2)))\n",
    "\n",
    "show()"
   ]
  }
 ],
 "metadata": {
  "kernelspec": {
   "display_name": "tf270",
   "language": "python",
   "name": "python3"
  },
  "language_info": {
   "codemirror_mode": {
    "name": "ipython",
    "version": 3
   },
   "file_extension": ".py",
   "mimetype": "text/x-python",
   "name": "python",
   "nbconvert_exporter": "python",
   "pygments_lexer": "ipython3",
   "version": "3.7.13"
  },
  "orig_nbformat": 4,
  "vscode": {
   "interpreter": {
    "hash": "1c7e5b2295d1fc1bfc2c2008a99316f2a7d705375d06e7de5f8e6c1f2cad69ee"
   }
  }
 },
 "nbformat": 4,
 "nbformat_minor": 2
}
