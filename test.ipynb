{
 "cells": [
  {
   "cell_type": "code",
   "execution_count": 8,
   "metadata": {},
   "outputs": [
    {
     "name": "stdout",
     "output_type": "stream",
     "text": [
      "Model: \"model_17\"\n",
      "_________________________________________________________________\n",
      " Layer (type)                Output Shape              Param #   \n",
      "=================================================================\n",
      " input_8 (InputLayer)        [(None, 2000, 16, 1)]     0         \n",
      "                                                                 \n",
      " conv2d_16 (Conv2D)          (None, 1000, 8, 4)        124       \n",
      "                                                                 \n",
      " batch_normalization_26 (Bat  (None, 1000, 8, 4)       16        \n",
      " chNormalization)                                                \n",
      "                                                                 \n",
      " re_lu_26 (ReLU)             (None, 1000, 8, 4)        0         \n",
      "                                                                 \n",
      " max_pooling2d_16 (MaxPoolin  (None, 500, 8, 4)        0         \n",
      " g2D)                                                            \n",
      "                                                                 \n",
      " conv2d_17 (Conv2D)          (None, 250, 4, 16)        1936      \n",
      "                                                                 \n",
      " batch_normalization_27 (Bat  (None, 250, 4, 16)       64        \n",
      " chNormalization)                                                \n",
      "                                                                 \n",
      " re_lu_27 (ReLU)             (None, 250, 4, 16)        0         \n",
      "                                                                 \n",
      " max_pooling2d_17 (MaxPoolin  (None, 125, 4, 16)       0         \n",
      " g2D)                                                            \n",
      "                                                                 \n",
      " conv2d_18 (Conv2D)          (None, 63, 2, 64)         30784     \n",
      "                                                                 \n",
      " batch_normalization_28 (Bat  (None, 63, 2, 64)        256       \n",
      " chNormalization)                                                \n",
      "                                                                 \n",
      " re_lu_28 (ReLU)             (None, 63, 2, 64)         0         \n",
      "                                                                 \n",
      " max_pooling2d_18 (MaxPoolin  (None, 32, 2, 64)        0         \n",
      " g2D)                                                            \n",
      "                                                                 \n",
      " conv2d_19 (Conv2D)          (None, 16, 1, 256)        491776    \n",
      "                                                                 \n",
      " batch_normalization_29 (Bat  (None, 16, 1, 256)       1024      \n",
      " chNormalization)                                                \n",
      "                                                                 \n",
      " re_lu_29 (ReLU)             (None, 16, 1, 256)        0         \n",
      "                                                                 \n",
      " max_pooling2d_19 (MaxPoolin  (None, 8, 1, 256)        0         \n",
      " g2D)                                                            \n",
      "                                                                 \n",
      " conv2d_20 (Conv2D)          (None, 4, 1, 1024)        7865344   \n",
      "                                                                 \n",
      " batch_normalization_30 (Bat  (None, 4, 1, 1024)       4096      \n",
      " chNormalization)                                                \n",
      "                                                                 \n",
      " re_lu_30 (ReLU)             (None, 4, 1, 1024)        0         \n",
      "                                                                 \n",
      " max_pooling2d_20 (MaxPoolin  (None, 2, 1, 1024)       0         \n",
      " g2D)                                                            \n",
      "                                                                 \n",
      " flatten_5 (Flatten)         (None, 2048)              0         \n",
      "                                                                 \n",
      " dense_10 (Dense)            (None, 2048)              4196352   \n",
      "                                                                 \n",
      " batch_normalization_31 (Bat  (None, 2048)             8192      \n",
      " chNormalization)                                                \n",
      "                                                                 \n",
      " re_lu_31 (ReLU)             (None, 2048)              0         \n",
      "                                                                 \n",
      " embedding (Dense)           (None, 10)                20490     \n",
      "                                                                 \n",
      " dense_11 (Dense)            (None, 2048)              22528     \n",
      "                                                                 \n",
      " reshape_5 (Reshape)         (None, 2, 1, 1024)        0         \n",
      "                                                                 \n",
      " batch_normalization_32 (Bat  (None, 2, 1, 1024)       4096      \n",
      " chNormalization)                                                \n",
      "                                                                 \n",
      " re_lu_32 (ReLU)             (None, 2, 1, 1024)        0         \n",
      "                                                                 \n",
      "=================================================================\n",
      "Total params: 12,647,078\n",
      "Trainable params: 12,638,206\n",
      "Non-trainable params: 8,872\n",
      "_________________________________________________________________\n"
     ]
    }
   ],
   "source": [
    "from tensorflow.keras.layers import Dense, Flatten, Input\n",
    "from tensorflow.keras.models import Model\n",
    "from modules import AEC_builder\n",
    "\n",
    "_encoder = AEC_builder.Encoder(input_shape=(2000, 16, 1), nb_layer=5, padding='same')\n",
    "_encoder.build()\n",
    "\n",
    "if not(_encoder.error_shape):\n",
    "    model = _encoder.model\n",
    "    # model.summary()\n",
    "\n",
    "    _bottle_neck = AEC_builder.BottleNeck(_encoder=_encoder.model, use_DENSE_OR_GAP='DENSE')\n",
    "    _bottle_neck.build()\n",
    "    model2 = _bottle_neck.model\n",
    "    # model2.summary()\n",
    "    \n",
    "    model3 = _bottle_neck.decoder\n",
    "    model3.summary()\n",
    "\n",
    "    \n"
   ]
  },
  {
   "cell_type": "code",
   "execution_count": null,
   "metadata": {},
   "outputs": [],
   "source": [
    "from tensorflow.keras.layers import Reshape\n",
    "decoder = model2.output\n",
    "decoder = Dense(units=120*8*8)(decoder)\n",
    "decoder = Reshape((120, 8, 8))(decoder)\n",
    "model_decoder = Model(inputs=model2.input, outputs=decoder)\n",
    "model_decoder.summary()"
   ]
  },
  {
   "cell_type": "code",
   "execution_count": null,
   "metadata": {},
   "outputs": [],
   "source": []
  }
 ],
 "metadata": {
  "kernelspec": {
   "display_name": "tf270",
   "language": "python",
   "name": "python3"
  },
  "language_info": {
   "codemirror_mode": {
    "name": "ipython",
    "version": 3
   },
   "file_extension": ".py",
   "mimetype": "text/x-python",
   "name": "python",
   "nbconvert_exporter": "python",
   "pygments_lexer": "ipython3",
   "version": "3.7.13"
  },
  "orig_nbformat": 4,
  "vscode": {
   "interpreter": {
    "hash": "1c7e5b2295d1fc1bfc2c2008a99316f2a7d705375d06e7de5f8e6c1f2cad69ee"
   }
  }
 },
 "nbformat": 4,
 "nbformat_minor": 2
}
